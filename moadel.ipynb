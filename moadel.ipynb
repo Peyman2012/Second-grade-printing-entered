{
 "cells": [
  {
   "cell_type": "code",
   "execution_count": 1,
   "metadata": {},
   "outputs": [],
   "source": [
    "id1=-1\n",
    "max1=-1\n",
    "max2=-1\n",
    "id2=-1"
   ]
  },
  {
   "cell_type": "code",
   "execution_count": 2,
   "metadata": {},
   "outputs": [
    {
     "name": "stdout",
     "output_type": "stream",
     "text": [
      "Enter n:3\n"
     ]
    }
   ],
   "source": [
    "n=int(input(\"Enter n:\"))"
   ]
  },
  {
   "cell_type": "code",
   "execution_count": 3,
   "metadata": {},
   "outputs": [
    {
     "name": "stdout",
     "output_type": "stream",
     "text": [
      "Enter id:1\n",
      "Enter average:12\n",
      "Enter id:2\n",
      "Enter average:15\n",
      "Enter id:3\n",
      "Enter average:17\n",
      "Max2 =  15.0 \t Id2 =  2\n"
     ]
    }
   ],
   "source": [
    "if n<2:\n",
    "    print(\"Please enter a number greater than 1\")\n",
    "else:\n",
    "    for i in range(1,n+1):\n",
    "        id = int(input(\"Enter id:\"))\n",
    "        aver= float(input(\"Enter average:\"))\n",
    "        if aver >max1:\n",
    "            id2=id1\n",
    "            max2=max1\n",
    "            max1=aver\n",
    "            id1=id\n",
    "        else:\n",
    "            if aver>max2:\n",
    "                max2=aver\n",
    "                id2=id\n",
    "    print(\"Max2 = \", max2, '\\t',\"Id2 = \", id2)"
   ]
  },
  {
   "cell_type": "code",
   "execution_count": null,
   "metadata": {},
   "outputs": [],
   "source": []
  },
  {
   "cell_type": "code",
   "execution_count": null,
   "metadata": {},
   "outputs": [],
   "source": []
  }
 ],
 "metadata": {
  "kernelspec": {
   "display_name": "Python 3",
   "language": "python",
   "name": "python3"
  },
  "language_info": {
   "codemirror_mode": {
    "name": "ipython",
    "version": 3
   },
   "file_extension": ".py",
   "mimetype": "text/x-python",
   "name": "python",
   "nbconvert_exporter": "python",
   "pygments_lexer": "ipython3",
   "version": "3.6.13"
  }
 },
 "nbformat": 4,
 "nbformat_minor": 2
}
